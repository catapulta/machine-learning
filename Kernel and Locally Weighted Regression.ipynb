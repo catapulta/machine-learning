{
 "cells": [
  {
   "cell_type": "markdown",
   "metadata": {},
   "source": [
    "# Kernel and Locally-Weighted Regression"
   ]
  },
  {
   "cell_type": "markdown",
   "metadata": {},
   "source": [
    "This is an implementation of Kernel Regression and Locally-Weighted Regression from scratch."
   ]
  },
  {
   "cell_type": "code",
   "execution_count": 190,
   "metadata": {},
   "outputs": [],
   "source": [
    "from sklearn.model_selection import train_test_split\n",
    "import numpy as np\n",
    "\n",
    "x = np.linspace(-15, 15, 200)\n",
    "y = 5 + -500*x - x**2/5 + 3*x**3 + np.random.randn(len(x))*200\n",
    "\n",
    "xtrain, xtest, ytrain, ytest = train_test_split(x, y, test_size=0.25, random_state=11)"
   ]
  },
  {
   "cell_type": "code",
   "execution_count": 191,
   "metadata": {
    "colab": {
     "autoexec": {
      "startup": false,
      "wait_interval": 0
     }
    },
    "colab_type": "code",
    "id": "MvEnorAOs8C5",
    "outputId": "bae534f0-6c0c-4598-93ea-c5d02318852e"
   },
   "outputs": [
    {
     "data": {
      "image/png": "[encoded data removed]",
      "text/plain": [
       "<matplotlib.figure.Figure at 0x1c746e8d0b8>"
      ]
     },
     "metadata": {},
     "output_type": "display_data"
    }
   ],
   "source": [
    "%matplotlib inline\n",
    "import matplotlib.pyplot as plt\n",
    "\n",
    "fig, ax = plt.subplots()\n",
    "ax.plot(xtest.tolist(), ytest.tolist(), marker='o', linestyle='', ms=2, label='Observed')\n",
    "ax.legend(numpoints=1, loc='upper left')\n",
    "plt.show()"
   ]
  },
  {
   "cell_type": "markdown",
   "metadata": {},
   "source": [
    "### Nadaraya-Watson Kernel Estimator"
   ]
  },
  {
   "cell_type": "markdown",
   "metadata": {},
   "source": [
    "I will use the [Nadaraya-Watson Kernel estimator with a Gaussian Kernel](http://www.maths.manchester.ac.uk/~peterf/MATH38011/NPR%20N-W%20Estimator.pdf):\n",
    "\n",
    "$\\hat f_n(X) = \\sum_{i=1}^n w_i Y_i$\n",
    "\n",
    "where\n",
    "\n",
    "$w_i(X_0) = \\frac{K\\left(\\frac{X_0-X_i}{h}\\right)}{\\sum_{i=0}^n K\\left(\\frac{X_0-X_i}{h}\\right)}$"
   ]
  },
  {
   "cell_type": "code",
   "execution_count": 192,
   "metadata": {
    "colab": {
     "autoexec": {
      "startup": false,
      "wait_interval": 0
     }
    },
    "colab_type": "code",
    "collapsed": true,
    "id": "O7wj9Z1Js8Ce"
   },
   "outputs": [],
   "source": [
    "# Kernel\n",
    "def gaussianKernel(x, x0, h):\n",
    "    return np.exp(-np.power((x-x0) / h, 2) / 2)\n",
    "\n",
    "# weight estimator\n",
    "def weightFunction(x, x0, h):\n",
    "    kernels = np.array([gaussianKernel(x, xi, h) for xi in x0])\n",
    "    sum_kernels = np.sum(kernels, axis=1).reshape((-1,1))\n",
    "    w = kernels/sum_kernels\n",
    "    return w"
   ]
  },
  {
   "cell_type": "code",
   "execution_count": null,
   "metadata": {
    "collapsed": true
   },
   "outputs": [],
   "source": [
    "# def Nadaraya-Watson Kernel Estimator\n",
    "def NWKE(x, x0, y0, h):\n",
    "    w = weightFunction(x, x0, h)\n",
    "    y = w.T @ y0\n",
    "    return y"
   ]
  },
  {
   "cell_type": "code",
   "execution_count": 204,
   "metadata": {
    "colab": {
     "autoexec": {
      "startup": false,
      "wait_interval": 0
     }
    },
    "colab_type": "code",
    "id": "0mZDgX5Xs8Co",
    "outputId": "0e2425d1-4ddd-4625-f1b6-5bfca0f86898"
   },
   "outputs": [
    {
     "name": "stdout",
     "output_type": "stream",
     "text": [
      "MAE with h=1 is: 2766.6054208222677\n"
     ]
    },
    {
     "data": {
      "image/png": "[encoded data removed]",
      "text/plain": [
       "<matplotlib.figure.Figure at 0x1c746e7cfd0>"
      ]
     },
     "metadata": {},
     "output_type": "display_data"
    }
   ],
   "source": [
    "h = 1\n",
    "pred = NWKE(xtest, xtrain, ytrain, h)\n",
    "print('MAE with h={} is: {}'.format(h, np.mean([abs(p-y) for p, y in zip(pred, ytest)])))\n",
    "\n",
    "fig, ax = plt.subplots()\n",
    "ax.plot(xtest.tolist(), pred, marker='o', linestyle='', ms=2, label='Predicted')\n",
    "ax.plot(xtest.tolist(), ytest.tolist(), marker='o', linestyle='', ms=2, label='Observed')\n",
    "ax.legend(numpoints=1, loc='upper left')\n",
    "plt.show()"
   ]
  },
  {
   "cell_type": "code",
   "execution_count": 205,
   "metadata": {
    "colab": {
     "autoexec": {
      "startup": false,
      "wait_interval": 0
     }
    },
    "colab_type": "code",
    "id": "0mZDgX5Xs8Co",
    "outputId": "0e2425d1-4ddd-4625-f1b6-5bfca0f86898"
   },
   "outputs": [
    {
     "name": "stdout",
     "output_type": "stream",
     "text": [
      "MAE with h=8 is: 1080.5313535083415\n"
     ]
    },
    {
     "data": {
      "image/png": "[encoded data removed]",
      "text/plain": [
       "<matplotlib.figure.Figure at 0x1c746c3aa90>"
      ]
     },
     "metadata": {},
     "output_type": "display_data"
    }
   ],
   "source": [
    "h = 8\n",
    "pred = NWKE(xtest, xtrain, ytrain, h)\n",
    "print('MAE with h={} is: {}'.format(h, np.mean([abs(p-y) for p, y in zip(pred, ytest)])))\n",
    "\n",
    "fig, ax = plt.subplots()\n",
    "ax.plot(xtest.tolist(), pred, marker='o', linestyle='', ms=2, label='Predicted')\n",
    "ax.plot(xtest.tolist(), ytest.tolist(), marker='o', linestyle='', ms=2, label='Observed')\n",
    "ax.legend(numpoints=1, loc='upper left')\n",
    "plt.show()"
   ]
  },
  {
   "cell_type": "markdown",
   "metadata": {
    "colab_type": "text",
    "id": "JlfvLZHIs8Cw"
   },
   "source": [
    "### Locally-Weighted Regression\n",
    "\n",
    "For every point $X_i$, perform a least squares regression and weight those regression outputs using the Nadaraya-Watson Kernel weights. The equation for every regression is:\n",
    "\n",
    "$\\hat\\beta = (X^T W X)^{−1}X^T W y$\n",
    "\n",
    "where $W$ is a diagonal matrix of weights."
   ]
  },
  {
   "cell_type": "code",
   "execution_count": 195,
   "metadata": {
    "colab": {
     "autoexec": {
      "startup": false,
      "wait_interval": 0
     }
    },
    "colab_type": "code",
    "id": "Q9npeRkLs8Cx",
    "outputId": "c464dd1f-53c0-4f69-e5fb-2c28a064a9eb"
   },
   "outputs": [],
   "source": [
    "def LWR(x, x0, y0, h):\n",
    "    weight = weightFunction(x, x0, h)\n",
    "    x = np.column_stack([np.ones(len(x)), x])\n",
    "    x0 = np.column_stack([np.ones(len(x0)), x0])\n",
    "    y0 = y0[:, np.newaxis]\n",
    "    y = []\n",
    "    for w, x in zip(weight.T, x):\n",
    "        w = np.diag(w)\n",
    "        beta = np.linalg.inv(x0.T @ w @ x0) @ x0.T @ w @ y0\n",
    "        y.append(x @ beta)\n",
    "    return np.array(y)"
   ]
  },
  {
   "cell_type": "code",
   "execution_count": 210,
   "metadata": {
    "colab": {
     "autoexec": {
      "startup": false,
      "wait_interval": 0
     }
    },
    "colab_type": "code",
    "id": "0mZDgX5Xs8Co",
    "outputId": "0e2425d1-4ddd-4625-f1b6-5bfca0f86898"
   },
   "outputs": [
    {
     "name": "stdout",
     "output_type": "stream",
     "text": [
      "MAE with h=10 is: 1267.313427207156\n"
     ]
    },
    {
     "data": {
      "image/png": "[encoded data removed]",
      "text/plain": [
       "<matplotlib.figure.Figure at 0x1c746c39cc0>"
      ]
     },
     "metadata": {},
     "output_type": "display_data"
    }
   ],
   "source": [
    "h = 10\n",
    "pred = LWR(xtest, xtrain, ytrain, h)\n",
    "print('MAE with h={} is: {}'.format(h, np.mean([abs(p-y) for p, y in zip(pred, ytest)])))\n",
    "\n",
    "fig, ax = plt.subplots()\n",
    "ax.plot(xtest.tolist(), pred, marker='o', linestyle='', ms=2, label='Predicted')\n",
    "ax.plot(xtest.tolist(), ytest.tolist(), marker='o', linestyle='', ms=2, label='Observed')\n",
    "ax.legend(numpoints=1, loc='upper left')\n",
    "plt.show()"
   ]
  },
  {
   "cell_type": "code",
   "execution_count": 211,
   "metadata": {
    "colab": {
     "autoexec": {
      "startup": false,
      "wait_interval": 0
     }
    },
    "colab_type": "code",
    "id": "0mZDgX5Xs8Co",
    "outputId": "0e2425d1-4ddd-4625-f1b6-5bfca0f86898"
   },
   "outputs": [
    {
     "name": "stdout",
     "output_type": "stream",
     "text": [
      "MAE with h=0.1 is: 234.12780454317235\n"
     ]
    },
    {
     "data": {
      "image/png": "[encoded data removed]",
      "text/plain": [
       "<matplotlib.figure.Figure at 0x1c746b75630>"
      ]
     },
     "metadata": {},
     "output_type": "display_data"
    }
   ],
   "source": [
    "h = .1\n",
    "pred = LWR(xtest, xtrain, ytrain, h)\n",
    "print('MAE with h={} is: {}'.format(h, np.mean([abs(p-y) for p, y in zip(pred, ytest)])))\n",
    "\n",
    "fig, ax = plt.subplots()\n",
    "ax.plot(xtest.tolist(), pred, marker='o', linestyle='', ms=2, label='Predicted')\n",
    "ax.plot(xtest.tolist(), ytest.tolist(), marker='o', linestyle='', ms=2, label='Observed')\n",
    "ax.legend(numpoints=1, loc='upper left')\n",
    "plt.show()"
   ]
  },
  {
   "cell_type": "code",
   "execution_count": null,
   "metadata": {
    "collapsed": true
   },
   "outputs": [],
   "source": []
  }
 ],
 "metadata": {
  "colab": {
   "default_view": {},
   "name": "Aldo Marini (amarinim).ipynb",
   "provenance": [],
   "version": "0.3.2",
   "views": {}
  },
  "kernelspec": {
   "display_name": "Python 3",
   "language": "python",
   "name": "python3"
  },
  "language_info": {
   "codemirror_mode": {
    "name": "ipython",
    "version": 3
   },
   "file_extension": ".py",
   "mimetype": "text/x-python",
   "name": "python",
   "nbconvert_exporter": "python",
   "pygments_lexer": "ipython3",
   "version": "3.6.3"
  }
 },
 "nbformat": 4,
 "nbformat_minor": 1
}
